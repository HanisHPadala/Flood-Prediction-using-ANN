{
 "cells": [
  {
   "cell_type": "code",
   "execution_count": null,
   "metadata": {},
   "outputs": [
    {
     "name": "stderr",
     "output_type": "stream",
     "text": [
      "c:\\Users\\DURGA\\anaconda3\\lib\\site-packages\\pandas\\core\\computation\\expressions.py:20: UserWarning: Pandas requires version '2.7.3' or newer of 'numexpr' (version '2.7.1' currently installed).\n",
      "  from pandas.core.computation.check import NUMEXPR_INSTALLED\n"
     ]
    }
   ],
   "source": [
    "# find flood prediction start with ml steps\n",
    "import pandas as pd\n",
    "import numpy as np\n",
    "import matplotlib.pyplot as plt\n",
    "# using ann for flood prediction\n",
    "from tensorflow.keras.models import Sequential\n",
    "from tensorflow.keras.layers import Dense, Dropout, LSTM\n"
   ]
  },
  {
   "cell_type": "markdown",
   "metadata": {},
   "source": [
    "### 1) Read Dataset"
   ]
  },
  {
   "cell_type": "code",
   "execution_count": null,
   "metadata": {},
   "outputs": [
    {
     "data": {
      "text/html": [
       "<div>\n",
       "<style scoped>\n",
       "    .dataframe tbody tr th:only-of-type {\n",
       "        vertical-align: middle;\n",
       "    }\n",
       "\n",
       "    .dataframe tbody tr th {\n",
       "        vertical-align: top;\n",
       "    }\n",
       "\n",
       "    .dataframe thead th {\n",
       "        text-align: right;\n",
       "    }\n",
       "</style>\n",
       "<table border=\"1\" class=\"dataframe\">\n",
       "  <thead>\n",
       "    <tr style=\"text-align: right;\">\n",
       "      <th></th>\n",
       "      <th>MonsoonIntensity</th>\n",
       "      <th>TopographyDrainage</th>\n",
       "      <th>RiverManagement</th>\n",
       "      <th>Deforestation</th>\n",
       "      <th>Urbanization</th>\n",
       "      <th>ClimateChange</th>\n",
       "      <th>DamsQuality</th>\n",
       "      <th>Siltation</th>\n",
       "      <th>AgriculturalPractices</th>\n",
       "      <th>Encroachments</th>\n",
       "      <th>...</th>\n",
       "      <th>DrainageSystems</th>\n",
       "      <th>CoastalVulnerability</th>\n",
       "      <th>Landslides</th>\n",
       "      <th>Watersheds</th>\n",
       "      <th>DeterioratingInfrastructure</th>\n",
       "      <th>PopulationScore</th>\n",
       "      <th>WetlandLoss</th>\n",
       "      <th>InadequatePlanning</th>\n",
       "      <th>PoliticalFactors</th>\n",
       "      <th>FloodProbability</th>\n",
       "    </tr>\n",
       "  </thead>\n",
       "  <tbody>\n",
       "    <tr>\n",
       "      <th>0</th>\n",
       "      <td>3</td>\n",
       "      <td>8</td>\n",
       "      <td>6</td>\n",
       "      <td>6</td>\n",
       "      <td>4</td>\n",
       "      <td>4</td>\n",
       "      <td>6</td>\n",
       "      <td>2</td>\n",
       "      <td>3</td>\n",
       "      <td>2</td>\n",
       "      <td>...</td>\n",
       "      <td>10</td>\n",
       "      <td>7</td>\n",
       "      <td>4</td>\n",
       "      <td>2</td>\n",
       "      <td>3</td>\n",
       "      <td>4</td>\n",
       "      <td>3</td>\n",
       "      <td>2</td>\n",
       "      <td>6</td>\n",
       "      <td>0.450</td>\n",
       "    </tr>\n",
       "    <tr>\n",
       "      <th>1</th>\n",
       "      <td>8</td>\n",
       "      <td>4</td>\n",
       "      <td>5</td>\n",
       "      <td>7</td>\n",
       "      <td>7</td>\n",
       "      <td>9</td>\n",
       "      <td>1</td>\n",
       "      <td>5</td>\n",
       "      <td>5</td>\n",
       "      <td>4</td>\n",
       "      <td>...</td>\n",
       "      <td>9</td>\n",
       "      <td>2</td>\n",
       "      <td>6</td>\n",
       "      <td>2</td>\n",
       "      <td>1</td>\n",
       "      <td>1</td>\n",
       "      <td>9</td>\n",
       "      <td>1</td>\n",
       "      <td>3</td>\n",
       "      <td>0.475</td>\n",
       "    </tr>\n",
       "    <tr>\n",
       "      <th>2</th>\n",
       "      <td>3</td>\n",
       "      <td>10</td>\n",
       "      <td>4</td>\n",
       "      <td>1</td>\n",
       "      <td>7</td>\n",
       "      <td>5</td>\n",
       "      <td>4</td>\n",
       "      <td>7</td>\n",
       "      <td>4</td>\n",
       "      <td>9</td>\n",
       "      <td>...</td>\n",
       "      <td>7</td>\n",
       "      <td>4</td>\n",
       "      <td>4</td>\n",
       "      <td>8</td>\n",
       "      <td>6</td>\n",
       "      <td>1</td>\n",
       "      <td>8</td>\n",
       "      <td>3</td>\n",
       "      <td>6</td>\n",
       "      <td>0.515</td>\n",
       "    </tr>\n",
       "    <tr>\n",
       "      <th>3</th>\n",
       "      <td>4</td>\n",
       "      <td>4</td>\n",
       "      <td>2</td>\n",
       "      <td>7</td>\n",
       "      <td>3</td>\n",
       "      <td>4</td>\n",
       "      <td>1</td>\n",
       "      <td>4</td>\n",
       "      <td>6</td>\n",
       "      <td>4</td>\n",
       "      <td>...</td>\n",
       "      <td>4</td>\n",
       "      <td>2</td>\n",
       "      <td>6</td>\n",
       "      <td>6</td>\n",
       "      <td>8</td>\n",
       "      <td>8</td>\n",
       "      <td>6</td>\n",
       "      <td>6</td>\n",
       "      <td>10</td>\n",
       "      <td>0.520</td>\n",
       "    </tr>\n",
       "    <tr>\n",
       "      <th>4</th>\n",
       "      <td>3</td>\n",
       "      <td>7</td>\n",
       "      <td>5</td>\n",
       "      <td>2</td>\n",
       "      <td>5</td>\n",
       "      <td>8</td>\n",
       "      <td>5</td>\n",
       "      <td>2</td>\n",
       "      <td>7</td>\n",
       "      <td>5</td>\n",
       "      <td>...</td>\n",
       "      <td>7</td>\n",
       "      <td>6</td>\n",
       "      <td>5</td>\n",
       "      <td>3</td>\n",
       "      <td>3</td>\n",
       "      <td>4</td>\n",
       "      <td>4</td>\n",
       "      <td>3</td>\n",
       "      <td>4</td>\n",
       "      <td>0.475</td>\n",
       "    </tr>\n",
       "    <tr>\n",
       "      <th>...</th>\n",
       "      <td>...</td>\n",
       "      <td>...</td>\n",
       "      <td>...</td>\n",
       "      <td>...</td>\n",
       "      <td>...</td>\n",
       "      <td>...</td>\n",
       "      <td>...</td>\n",
       "      <td>...</td>\n",
       "      <td>...</td>\n",
       "      <td>...</td>\n",
       "      <td>...</td>\n",
       "      <td>...</td>\n",
       "      <td>...</td>\n",
       "      <td>...</td>\n",
       "      <td>...</td>\n",
       "      <td>...</td>\n",
       "      <td>...</td>\n",
       "      <td>...</td>\n",
       "      <td>...</td>\n",
       "      <td>...</td>\n",
       "      <td>...</td>\n",
       "    </tr>\n",
       "    <tr>\n",
       "      <th>49995</th>\n",
       "      <td>3</td>\n",
       "      <td>7</td>\n",
       "      <td>4</td>\n",
       "      <td>7</td>\n",
       "      <td>5</td>\n",
       "      <td>9</td>\n",
       "      <td>4</td>\n",
       "      <td>6</td>\n",
       "      <td>10</td>\n",
       "      <td>4</td>\n",
       "      <td>...</td>\n",
       "      <td>7</td>\n",
       "      <td>3</td>\n",
       "      <td>8</td>\n",
       "      <td>8</td>\n",
       "      <td>6</td>\n",
       "      <td>1</td>\n",
       "      <td>5</td>\n",
       "      <td>4</td>\n",
       "      <td>2</td>\n",
       "      <td>0.535</td>\n",
       "    </tr>\n",
       "    <tr>\n",
       "      <th>49996</th>\n",
       "      <td>3</td>\n",
       "      <td>10</td>\n",
       "      <td>3</td>\n",
       "      <td>8</td>\n",
       "      <td>3</td>\n",
       "      <td>3</td>\n",
       "      <td>4</td>\n",
       "      <td>4</td>\n",
       "      <td>3</td>\n",
       "      <td>11</td>\n",
       "      <td>...</td>\n",
       "      <td>8</td>\n",
       "      <td>6</td>\n",
       "      <td>3</td>\n",
       "      <td>6</td>\n",
       "      <td>4</td>\n",
       "      <td>4</td>\n",
       "      <td>2</td>\n",
       "      <td>4</td>\n",
       "      <td>5</td>\n",
       "      <td>0.510</td>\n",
       "    </tr>\n",
       "    <tr>\n",
       "      <th>49997</th>\n",
       "      <td>4</td>\n",
       "      <td>4</td>\n",
       "      <td>5</td>\n",
       "      <td>7</td>\n",
       "      <td>2</td>\n",
       "      <td>1</td>\n",
       "      <td>4</td>\n",
       "      <td>5</td>\n",
       "      <td>6</td>\n",
       "      <td>7</td>\n",
       "      <td>...</td>\n",
       "      <td>4</td>\n",
       "      <td>6</td>\n",
       "      <td>4</td>\n",
       "      <td>1</td>\n",
       "      <td>5</td>\n",
       "      <td>1</td>\n",
       "      <td>6</td>\n",
       "      <td>4</td>\n",
       "      <td>3</td>\n",
       "      <td>0.430</td>\n",
       "    </tr>\n",
       "    <tr>\n",
       "      <th>49998</th>\n",
       "      <td>4</td>\n",
       "      <td>5</td>\n",
       "      <td>4</td>\n",
       "      <td>4</td>\n",
       "      <td>6</td>\n",
       "      <td>3</td>\n",
       "      <td>10</td>\n",
       "      <td>2</td>\n",
       "      <td>6</td>\n",
       "      <td>11</td>\n",
       "      <td>...</td>\n",
       "      <td>6</td>\n",
       "      <td>3</td>\n",
       "      <td>4</td>\n",
       "      <td>7</td>\n",
       "      <td>6</td>\n",
       "      <td>2</td>\n",
       "      <td>4</td>\n",
       "      <td>0</td>\n",
       "      <td>11</td>\n",
       "      <td>0.515</td>\n",
       "    </tr>\n",
       "    <tr>\n",
       "      <th>49999</th>\n",
       "      <td>4</td>\n",
       "      <td>5</td>\n",
       "      <td>6</td>\n",
       "      <td>3</td>\n",
       "      <td>5</td>\n",
       "      <td>6</td>\n",
       "      <td>5</td>\n",
       "      <td>4</td>\n",
       "      <td>9</td>\n",
       "      <td>10</td>\n",
       "      <td>...</td>\n",
       "      <td>2</td>\n",
       "      <td>4</td>\n",
       "      <td>4</td>\n",
       "      <td>5</td>\n",
       "      <td>6</td>\n",
       "      <td>7</td>\n",
       "      <td>8</td>\n",
       "      <td>10</td>\n",
       "      <td>7</td>\n",
       "      <td>0.580</td>\n",
       "    </tr>\n",
       "  </tbody>\n",
       "</table>\n",
       "<p>50000 rows × 21 columns</p>\n",
       "</div>"
      ],
      "text/plain": [
       "       MonsoonIntensity  TopographyDrainage  RiverManagement  Deforestation  \\\n",
       "0                     3                   8                6              6   \n",
       "1                     8                   4                5              7   \n",
       "2                     3                  10                4              1   \n",
       "3                     4                   4                2              7   \n",
       "4                     3                   7                5              2   \n",
       "...                 ...                 ...              ...            ...   \n",
       "49995                 3                   7                4              7   \n",
       "49996                 3                  10                3              8   \n",
       "49997                 4                   4                5              7   \n",
       "49998                 4                   5                4              4   \n",
       "49999                 4                   5                6              3   \n",
       "\n",
       "       Urbanization  ClimateChange  DamsQuality  Siltation  \\\n",
       "0                 4              4            6          2   \n",
       "1                 7              9            1          5   \n",
       "2                 7              5            4          7   \n",
       "3                 3              4            1          4   \n",
       "4                 5              8            5          2   \n",
       "...             ...            ...          ...        ...   \n",
       "49995             5              9            4          6   \n",
       "49996             3              3            4          4   \n",
       "49997             2              1            4          5   \n",
       "49998             6              3           10          2   \n",
       "49999             5              6            5          4   \n",
       "\n",
       "       AgriculturalPractices  Encroachments  ...  DrainageSystems  \\\n",
       "0                          3              2  ...               10   \n",
       "1                          5              4  ...                9   \n",
       "2                          4              9  ...                7   \n",
       "3                          6              4  ...                4   \n",
       "4                          7              5  ...                7   \n",
       "...                      ...            ...  ...              ...   \n",
       "49995                     10              4  ...                7   \n",
       "49996                      3             11  ...                8   \n",
       "49997                      6              7  ...                4   \n",
       "49998                      6             11  ...                6   \n",
       "49999                      9             10  ...                2   \n",
       "\n",
       "       CoastalVulnerability  Landslides  Watersheds  \\\n",
       "0                         7           4           2   \n",
       "1                         2           6           2   \n",
       "2                         4           4           8   \n",
       "3                         2           6           6   \n",
       "4                         6           5           3   \n",
       "...                     ...         ...         ...   \n",
       "49995                     3           8           8   \n",
       "49996                     6           3           6   \n",
       "49997                     6           4           1   \n",
       "49998                     3           4           7   \n",
       "49999                     4           4           5   \n",
       "\n",
       "       DeterioratingInfrastructure  PopulationScore  WetlandLoss  \\\n",
       "0                                3                4            3   \n",
       "1                                1                1            9   \n",
       "2                                6                1            8   \n",
       "3                                8                8            6   \n",
       "4                                3                4            4   \n",
       "...                            ...              ...          ...   \n",
       "49995                            6                1            5   \n",
       "49996                            4                4            2   \n",
       "49997                            5                1            6   \n",
       "49998                            6                2            4   \n",
       "49999                            6                7            8   \n",
       "\n",
       "       InadequatePlanning  PoliticalFactors  FloodProbability  \n",
       "0                       2                 6             0.450  \n",
       "1                       1                 3             0.475  \n",
       "2                       3                 6             0.515  \n",
       "3                       6                10             0.520  \n",
       "4                       3                 4             0.475  \n",
       "...                   ...               ...               ...  \n",
       "49995                   4                 2             0.535  \n",
       "49996                   4                 5             0.510  \n",
       "49997                   4                 3             0.430  \n",
       "49998                   0                11             0.515  \n",
       "49999                  10                 7             0.580  \n",
       "\n",
       "[50000 rows x 21 columns]"
      ]
     },
     "execution_count": 2,
     "metadata": {},
     "output_type": "execute_result"
    }
   ],
   "source": [
    "df = pd.read_csv('Dataset/flood.csv')\n",
    "df"
   ]
  },
  {
   "cell_type": "code",
   "execution_count": null,
   "metadata": {},
   "outputs": [
    {
     "data": {
      "text/plain": [
       "(50000, 21)"
      ]
     },
     "execution_count": 3,
     "metadata": {},
     "output_type": "execute_result"
    }
   ],
   "source": [
    "df.shape"
   ]
  },
  {
   "cell_type": "code",
   "execution_count": null,
   "metadata": {},
   "outputs": [
    {
     "data": {
      "text/plain": [
       "Index(['MonsoonIntensity', 'TopographyDrainage', 'RiverManagement',\n",
       "       'Deforestation', 'Urbanization', 'ClimateChange', 'DamsQuality',\n",
       "       'Siltation', 'AgriculturalPractices', 'Encroachments',\n",
       "       'IneffectiveDisasterPreparedness', 'DrainageSystems',\n",
       "       'CoastalVulnerability', 'Landslides', 'Watersheds',\n",
       "       'DeterioratingInfrastructure', 'PopulationScore', 'WetlandLoss',\n",
       "       'InadequatePlanning', 'PoliticalFactors', 'FloodProbability'],\n",
       "      dtype='object')"
      ]
     },
     "execution_count": 4,
     "metadata": {},
     "output_type": "execute_result"
    }
   ],
   "source": [
    "df.columns"
   ]
  },
  {
   "cell_type": "markdown",
   "metadata": {},
   "source": [
    "#### Get Information about Dataset of Flood"
   ]
  },
  {
   "cell_type": "code",
   "execution_count": null,
   "metadata": {},
   "outputs": [
    {
     "name": "stdout",
     "output_type": "stream",
     "text": [
      "<class 'pandas.core.frame.DataFrame'>\n",
      "RangeIndex: 50000 entries, 0 to 49999\n",
      "Data columns (total 21 columns):\n",
      " #   Column                           Non-Null Count  Dtype  \n",
      "---  ------                           --------------  -----  \n",
      " 0   MonsoonIntensity                 50000 non-null  int64  \n",
      " 1   TopographyDrainage               50000 non-null  int64  \n",
      " 2   RiverManagement                  50000 non-null  int64  \n",
      " 3   Deforestation                    50000 non-null  int64  \n",
      " 4   Urbanization                     50000 non-null  int64  \n",
      " 5   ClimateChange                    50000 non-null  int64  \n",
      " 6   DamsQuality                      50000 non-null  int64  \n",
      " 7   Siltation                        50000 non-null  int64  \n",
      " 8   AgriculturalPractices            50000 non-null  int64  \n",
      " 9   Encroachments                    50000 non-null  int64  \n",
      " 10  IneffectiveDisasterPreparedness  50000 non-null  int64  \n",
      " 11  DrainageSystems                  50000 non-null  int64  \n",
      " 12  CoastalVulnerability             50000 non-null  int64  \n",
      " 13  Landslides                       50000 non-null  int64  \n",
      " 14  Watersheds                       50000 non-null  int64  \n",
      " 15  DeterioratingInfrastructure      50000 non-null  int64  \n",
      " 16  PopulationScore                  50000 non-null  int64  \n",
      " 17  WetlandLoss                      50000 non-null  int64  \n",
      " 18  InadequatePlanning               50000 non-null  int64  \n",
      " 19  PoliticalFactors                 50000 non-null  int64  \n",
      " 20  FloodProbability                 50000 non-null  float64\n",
      "dtypes: float64(1), int64(20)\n",
      "memory usage: 8.0 MB\n"
     ]
    }
   ],
   "source": [
    "df.info()"
   ]
  },
  {
   "cell_type": "markdown",
   "metadata": {},
   "source": [
    "### 2) Data Preprocessing"
   ]
  },
  {
   "cell_type": "code",
   "execution_count": null,
   "metadata": {},
   "outputs": [
    {
     "data": {
      "text/plain": [
       "MonsoonIntensity                   0\n",
       "TopographyDrainage                 0\n",
       "RiverManagement                    0\n",
       "Deforestation                      0\n",
       "Urbanization                       0\n",
       "ClimateChange                      0\n",
       "DamsQuality                        0\n",
       "Siltation                          0\n",
       "AgriculturalPractices              0\n",
       "Encroachments                      0\n",
       "IneffectiveDisasterPreparedness    0\n",
       "DrainageSystems                    0\n",
       "CoastalVulnerability               0\n",
       "Landslides                         0\n",
       "Watersheds                         0\n",
       "DeterioratingInfrastructure        0\n",
       "PopulationScore                    0\n",
       "WetlandLoss                        0\n",
       "InadequatePlanning                 0\n",
       "PoliticalFactors                   0\n",
       "FloodProbability                   0\n",
       "dtype: int64"
      ]
     },
     "execution_count": 6,
     "metadata": {},
     "output_type": "execute_result"
    }
   ],
   "source": [
    "df.isnull().sum()\n"
   ]
  },
  {
   "cell_type": "code",
   "execution_count": null,
   "metadata": {},
   "outputs": [
    {
     "data": {
      "text/html": [
       "<div>\n",
       "<style scoped>\n",
       "    .dataframe tbody tr th:only-of-type {\n",
       "        vertical-align: middle;\n",
       "    }\n",
       "\n",
       "    .dataframe tbody tr th {\n",
       "        vertical-align: top;\n",
       "    }\n",
       "\n",
       "    .dataframe thead th {\n",
       "        text-align: right;\n",
       "    }\n",
       "</style>\n",
       "<table border=\"1\" class=\"dataframe\">\n",
       "  <thead>\n",
       "    <tr style=\"text-align: right;\">\n",
       "      <th></th>\n",
       "      <th>MonsoonIntensity</th>\n",
       "      <th>TopographyDrainage</th>\n",
       "      <th>RiverManagement</th>\n",
       "      <th>Deforestation</th>\n",
       "      <th>Urbanization</th>\n",
       "      <th>ClimateChange</th>\n",
       "      <th>DamsQuality</th>\n",
       "      <th>Siltation</th>\n",
       "      <th>AgriculturalPractices</th>\n",
       "      <th>Encroachments</th>\n",
       "      <th>...</th>\n",
       "      <th>DrainageSystems</th>\n",
       "      <th>CoastalVulnerability</th>\n",
       "      <th>Landslides</th>\n",
       "      <th>Watersheds</th>\n",
       "      <th>DeterioratingInfrastructure</th>\n",
       "      <th>PopulationScore</th>\n",
       "      <th>WetlandLoss</th>\n",
       "      <th>InadequatePlanning</th>\n",
       "      <th>PoliticalFactors</th>\n",
       "      <th>FloodProbability</th>\n",
       "    </tr>\n",
       "  </thead>\n",
       "  <tbody>\n",
       "  </tbody>\n",
       "</table>\n",
       "<p>0 rows × 21 columns</p>\n",
       "</div>"
      ],
      "text/plain": [
       "Empty DataFrame\n",
       "Columns: [MonsoonIntensity, TopographyDrainage, RiverManagement, Deforestation, Urbanization, ClimateChange, DamsQuality, Siltation, AgriculturalPractices, Encroachments, IneffectiveDisasterPreparedness, DrainageSystems, CoastalVulnerability, Landslides, Watersheds, DeterioratingInfrastructure, PopulationScore, WetlandLoss, InadequatePlanning, PoliticalFactors, FloodProbability]\n",
       "Index: []\n",
       "\n",
       "[0 rows x 21 columns]"
      ]
     },
     "execution_count": 7,
     "metadata": {},
     "output_type": "execute_result"
    }
   ],
   "source": [
    "df[df.duplicated()]"
   ]
  },
  {
   "cell_type": "markdown",
   "metadata": {},
   "source": [
    "#### if any columns are with datatype object"
   ]
  },
  {
   "cell_type": "code",
   "execution_count": null,
   "metadata": {},
   "outputs": [
    {
     "name": "stdout",
     "output_type": "stream",
     "text": [
      "None\n",
      "None\n",
      "None\n",
      "None\n",
      "None\n",
      "None\n",
      "None\n",
      "None\n",
      "None\n",
      "None\n",
      "None\n",
      "None\n",
      "None\n",
      "None\n",
      "None\n",
      "None\n",
      "None\n",
      "None\n",
      "None\n",
      "None\n",
      "None\n"
     ]
    }
   ],
   "source": [
    "for col in df.columns:\n",
    "    if df[col].dtype == 'object':\n",
    "        print(f'{col} : {df[col].unique()}')\n",
    "    else:\n",
    "        print(\"None\")"
   ]
  },
  {
   "cell_type": "markdown",
   "metadata": {},
   "source": [
    "### 3) Exploratory Data Analysis (EDA)"
   ]
  },
  {
   "cell_type": "code",
   "execution_count": null,
   "metadata": {},
   "outputs": [
    {
     "data": {
      "image/png": "[encoded data removed]",
      "text/plain": [
       "<Figure size 432x288 with 1 Axes>"
      ]
     },
     "metadata": {
      "needs_background": "light"
     },
     "output_type": "display_data"
    }
   ],
   "source": [
    "# Exploratory Data Analysis (EDA)\n",
    "df.corr()['FloodProbability'].sort_values(ascending=False).plot(kind='bar')\n",
    "plt.show()\n"
   ]
  },
  {
   "cell_type": "code",
   "execution_count": null,
   "metadata": {},
   "outputs": [
    {
     "data": {
      "text/plain": [
       "FloodProbability\n",
       "0.500    4.036\n",
       "0.490    3.968\n",
       "0.495    3.950\n",
       "0.485    3.920\n",
       "0.505    3.890\n",
       "         ...  \n",
       "0.700    0.002\n",
       "0.715    0.002\n",
       "0.710    0.002\n",
       "0.285    0.002\n",
       "0.725    0.002\n",
       "Name: proportion, Length: 83, dtype: float64"
      ]
     },
     "execution_count": 10,
     "metadata": {},
     "output_type": "execute_result"
    }
   ],
   "source": [
    "# for the probabilities of flood prediction give one bar for each probability for 0 to 1\n",
    "df['FloodProbability'].value_counts(normalize=True) * 100\n"
   ]
  },
  {
   "cell_type": "code",
   "execution_count": null,
   "metadata": {},
   "outputs": [
    {
     "data": {
      "image/png": "[encoded data removed]",
      "text/plain": [
       "<Figure size 3600x720 with 1 Axes>"
      ]
     },
     "metadata": {
      "needs_background": "light"
     },
     "output_type": "display_data"
    }
   ],
   "source": [
    "\n",
    "# make a bar graph for this values count of flood prediction of 0 and 1\n",
    "# make some space in the each bars of the graph\n",
    "plt.figure(figsize=(50,10))\n",
    "# make some space in the each bar graph\n",
    "# plt.bar(df['FloodProbability'].value_counts().index, df['FloodProbability'].value_counts())\n",
    "# plt.show()\n",
    "df['FloodProbability'].value_counts().plot(kind='bar')\n",
    "plt.show()\n",
    "\n",
    "\n",
    "# plt.figure(figsize=(10,10))\n",
    "# df['FloodProbability'].value_counts().plot(kind='bar')\n",
    "# plt.show()"
   ]
  },
  {
   "cell_type": "markdown",
   "metadata": {},
   "source": [
    "### 4) Data Splitting"
   ]
  },
  {
   "cell_type": "markdown",
   "metadata": {},
   "source": [
    "#### Split into Features and Label"
   ]
  },
  {
   "cell_type": "code",
   "execution_count": null,
   "metadata": {},
   "outputs": [],
   "source": [
    "Features = df.drop('FloodProbability', axis=1)\n",
    "Label = df['FloodProbability']"
   ]
  },
  {
   "cell_type": "code",
   "execution_count": null,
   "metadata": {},
   "outputs": [
    {
     "name": "stdout",
     "output_type": "stream",
     "text": [
      "(50000, 20)\n",
      "(50000,)\n"
     ]
    }
   ],
   "source": [
    "print(Features.shape)\n",
    "print(Label.shape)"
   ]
  },
  {
   "cell_type": "markdown",
   "metadata": {},
   "source": [
    "#### Split into Train and Test"
   ]
  },
  {
   "cell_type": "code",
   "execution_count": null,
   "metadata": {},
   "outputs": [],
   "source": [
    "# Split into Train and Test\n",
    "from sklearn.model_selection import train_test_split\n",
    "X_train, X_test, y_train, y_test = train_test_split(Features, Label, test_size=0.2, random_state=0)"
   ]
  },
  {
   "cell_type": "code",
   "execution_count": null,
   "metadata": {},
   "outputs": [
    {
     "name": "stdout",
     "output_type": "stream",
     "text": [
      "(40000, 20)\n",
      "(40000,)\n",
      "(10000, 20)\n",
      "(10000,)\n"
     ]
    }
   ],
   "source": [
    "print(X_train.shape)\n",
    "print(y_train.shape)\n",
    "print(X_test.shape)\n",
    "print(y_test.shape)"
   ]
  },
  {
   "cell_type": "markdown",
   "metadata": {},
   "source": [
    "### 5) Model Selection"
   ]
  },
  {
   "cell_type": "markdown",
   "metadata": {},
   "source": [
    "##### Artificial Neural Network (ANN)"
   ]
  },
  {
   "cell_type": "code",
   "execution_count": null,
   "metadata": {},
   "outputs": [],
   "source": [
    "# from keras import backend as K\n",
    "\n",
    "# def for_epoch_accuracy(y_true, y_pred):\n",
    "#     threshold = 0.1\n",
    "#     return K.mean(K.cast(K.abs(y_true - y_pred) < threshold, K.floatx()))"
   ]
  },
  {
   "cell_type": "code",
   "execution_count": null,
   "metadata": {},
   "outputs": [],
   "source": [
    "from tensorflow.keras.optimizers import Adam\n",
    "\n",
    "model = Sequential()\n",
    "\n",
    "model.add(Dense(units=32, activation='relu', input_shape=(X_train.shape[1],)))\n",
    "\n",
    "model.add(Dense(units=64, activation='relu'))\n",
    "\n",
    "model.add(Dense(units=32, activation='relu'))\n",
    "\n",
    "model.add(Dense(units=1))\n",
    "\n",
    "model.compile(optimizer=Adam(), loss='mean_squared_error', metrics=['mean_absolute_error', 'mean_squared_error'])"
   ]
  },
  {
   "cell_type": "code",
   "execution_count": null,
   "metadata": {},
   "outputs": [
    {
     "name": "stdout",
     "output_type": "stream",
     "text": [
      "Model: \"sequential\"\n",
      "_________________________________________________________________\n",
      " Layer (type)                Output Shape              Param #   \n",
      "=================================================================\n",
      " dense (Dense)               (None, 32)                672       \n",
      "                                                                 \n",
      " dense_1 (Dense)             (None, 64)                2112      \n",
      "                                                                 \n",
      " dense_2 (Dense)             (None, 32)                2080      \n",
      "                                                                 \n",
      " dense_3 (Dense)             (None, 1)                 33        \n",
      "                                                                 \n",
      "=================================================================\n",
      "Total params: 4,897\n",
      "Trainable params: 4,897\n",
      "Non-trainable params: 0\n",
      "_________________________________________________________________\n"
     ]
    }
   ],
   "source": [
    "model.summary()\n"
   ]
  },
  {
   "cell_type": "code",
   "execution_count": null,
   "metadata": {},
   "outputs": [
    {
     "name": "stdout",
     "output_type": "stream",
     "text": [
      "Epoch 1/50\n",
      "1250/1250 [==============================] - 3s 2ms/step - loss: 0.0240 - mean_absolute_error: 0.0690 - mean_squared_error: 0.0240 - val_loss: 0.0015 - val_mean_absolute_error: 0.0317 - val_mean_squared_error: 0.0015\n",
      "Epoch 2/50\n",
      "1250/1250 [==============================] - 2s 2ms/step - loss: 5.6506e-04 - mean_absolute_error: 0.0178 - mean_squared_error: 5.6506e-04 - val_loss: 2.7955e-04 - val_mean_absolute_error: 0.0129 - val_mean_squared_error: 2.7955e-04\n",
      "Epoch 3/50\n",
      "1250/1250 [==============================] - 2s 1ms/step - loss: 1.2622e-04 - mean_absolute_error: 0.0081 - mean_squared_error: 1.2622e-04 - val_loss: 7.6610e-05 - val_mean_absolute_error: 0.0066 - val_mean_squared_error: 7.6610e-05\n",
      "Epoch 4/50\n",
      "1250/1250 [==============================] - 2s 2ms/step - loss: 7.3619e-05 - mean_absolute_error: 0.0065 - mean_squared_error: 7.3619e-05 - val_loss: 1.0027e-04 - val_mean_absolute_error: 0.0089 - val_mean_squared_error: 1.0027e-04\n",
      "Epoch 5/50\n",
      "1250/1250 [==============================] - 2s 1ms/step - loss: 8.3930e-05 - mean_absolute_error: 0.0070 - mean_squared_error: 8.3930e-05 - val_loss: 9.0913e-05 - val_mean_absolute_error: 0.0086 - val_mean_squared_error: 9.0913e-05\n",
      "Epoch 6/50\n",
      "1250/1250 [==============================] - 2s 2ms/step - loss: 7.5790e-05 - mean_absolute_error: 0.0063 - mean_squared_error: 7.5790e-05 - val_loss: 1.6171e-05 - val_mean_absolute_error: 0.0026 - val_mean_squared_error: 1.6171e-05\n",
      "Epoch 7/50\n",
      "1250/1250 [==============================] - 2s 1ms/step - loss: 6.0736e-05 - mean_absolute_error: 0.0058 - mean_squared_error: 6.0736e-05 - val_loss: 1.9747e-05 - val_mean_absolute_error: 0.0029 - val_mean_squared_error: 1.9747e-05\n",
      "Epoch 8/50\n",
      "1250/1250 [==============================] - 2s 2ms/step - loss: 4.8403e-05 - mean_absolute_error: 0.0053 - mean_squared_error: 4.8403e-05 - val_loss: 4.7006e-05 - val_mean_absolute_error: 0.0057 - val_mean_squared_error: 4.7006e-05\n",
      "Epoch 9/50\n",
      "1250/1250 [==============================] - 2s 1ms/step - loss: 4.4241e-05 - mean_absolute_error: 0.0046 - mean_squared_error: 4.4241e-05 - val_loss: 1.2521e-05 - val_mean_absolute_error: 0.0019 - val_mean_squared_error: 1.2521e-05\n",
      "Epoch 10/50\n",
      "1250/1250 [==============================] - 2s 2ms/step - loss: 3.7844e-05 - mean_absolute_error: 0.0044 - mean_squared_error: 3.7844e-05 - val_loss: 1.3488e-05 - val_mean_absolute_error: 0.0023 - val_mean_squared_error: 1.3488e-05\n",
      "Epoch 11/50\n",
      "1250/1250 [==============================] - 2s 2ms/step - loss: 2.5769e-05 - mean_absolute_error: 0.0036 - mean_squared_error: 2.5769e-05 - val_loss: 1.0273e-05 - val_mean_absolute_error: 0.0015 - val_mean_squared_error: 1.0273e-05\n",
      "Epoch 12/50\n",
      "1250/1250 [==============================] - 2s 1ms/step - loss: 2.2966e-05 - mean_absolute_error: 0.0033 - mean_squared_error: 2.2966e-05 - val_loss: 6.9935e-06 - val_mean_absolute_error: 9.5820e-04 - val_mean_squared_error: 6.9935e-06\n",
      "Epoch 13/50\n",
      "1250/1250 [==============================] - 2s 2ms/step - loss: 1.9982e-05 - mean_absolute_error: 0.0032 - mean_squared_error: 1.9982e-05 - val_loss: 5.5317e-05 - val_mean_absolute_error: 0.0070 - val_mean_squared_error: 5.5317e-05\n",
      "Epoch 14/50\n",
      "1250/1250 [==============================] - 2s 2ms/step - loss: 1.6421e-05 - mean_absolute_error: 0.0030 - mean_squared_error: 1.6421e-05 - val_loss: 1.0274e-05 - val_mean_absolute_error: 0.0026 - val_mean_squared_error: 1.0274e-05\n",
      "Epoch 15/50\n",
      "1250/1250 [==============================] - 2s 2ms/step - loss: 1.5285e-05 - mean_absolute_error: 0.0028 - mean_squared_error: 1.5285e-05 - val_loss: 2.0775e-06 - val_mean_absolute_error: 5.1371e-04 - val_mean_squared_error: 2.0775e-06\n",
      "Epoch 16/50\n",
      "1250/1250 [==============================] - 2s 2ms/step - loss: 1.1823e-05 - mean_absolute_error: 0.0026 - mean_squared_error: 1.1823e-05 - val_loss: 4.1840e-06 - val_mean_absolute_error: 0.0015 - val_mean_squared_error: 4.1840e-06\n",
      "Epoch 17/50\n",
      "1250/1250 [==============================] - 2s 2ms/step - loss: 1.1600e-05 - mean_absolute_error: 0.0025 - mean_squared_error: 1.1600e-05 - val_loss: 3.5513e-06 - val_mean_absolute_error: 0.0015 - val_mean_squared_error: 3.5513e-06\n",
      "Epoch 18/50\n",
      "1250/1250 [==============================] - 2s 2ms/step - loss: 1.2958e-05 - mean_absolute_error: 0.0026 - mean_squared_error: 1.2958e-05 - val_loss: 2.1373e-06 - val_mean_absolute_error: 7.4267e-04 - val_mean_squared_error: 2.1373e-06\n",
      "Epoch 19/50\n",
      "1250/1250 [==============================] - 2s 1ms/step - loss: 8.4161e-06 - mean_absolute_error: 0.0021 - mean_squared_error: 8.4161e-06 - val_loss: 2.1688e-06 - val_mean_absolute_error: 0.0011 - val_mean_squared_error: 2.1688e-06\n",
      "Epoch 20/50\n",
      "1250/1250 [==============================] - 2s 2ms/step - loss: 8.8304e-06 - mean_absolute_error: 0.0020 - mean_squared_error: 8.8304e-06 - val_loss: 1.1803e-05 - val_mean_absolute_error: 0.0033 - val_mean_squared_error: 1.1803e-05\n",
      "Epoch 21/50\n",
      "1250/1250 [==============================] - 2s 2ms/step - loss: 7.7482e-06 - mean_absolute_error: 0.0019 - mean_squared_error: 7.7482e-06 - val_loss: 4.4085e-06 - val_mean_absolute_error: 0.0018 - val_mean_squared_error: 4.4085e-06\n",
      "Epoch 22/50\n",
      "1250/1250 [==============================] - 2s 1ms/step - loss: 6.7126e-06 - mean_absolute_error: 0.0018 - mean_squared_error: 6.7126e-06 - val_loss: 1.4970e-06 - val_mean_absolute_error: 8.2561e-04 - val_mean_squared_error: 1.4970e-06\n",
      "Epoch 23/50\n",
      "1250/1250 [==============================] - 2s 1ms/step - loss: 6.5116e-06 - mean_absolute_error: 0.0018 - mean_squared_error: 6.5116e-06 - val_loss: 2.3003e-05 - val_mean_absolute_error: 0.0045 - val_mean_squared_error: 2.3003e-05\n",
      "Epoch 24/50\n",
      "1250/1250 [==============================] - 2s 2ms/step - loss: 5.5798e-06 - mean_absolute_error: 0.0016 - mean_squared_error: 5.5798e-06 - val_loss: 2.7491e-06 - val_mean_absolute_error: 0.0014 - val_mean_squared_error: 2.7491e-06\n",
      "Epoch 25/50\n",
      "1250/1250 [==============================] - 2s 1ms/step - loss: 5.0303e-06 - mean_absolute_error: 0.0016 - mean_squared_error: 5.0303e-06 - val_loss: 7.8343e-07 - val_mean_absolute_error: 5.8196e-04 - val_mean_squared_error: 7.8343e-07\n",
      "Epoch 26/50\n",
      "1250/1250 [==============================] - 2s 2ms/step - loss: 4.6575e-06 - mean_absolute_error: 0.0015 - mean_squared_error: 4.6575e-06 - val_loss: 5.9676e-07 - val_mean_absolute_error: 4.2806e-04 - val_mean_squared_error: 5.9676e-07\n",
      "Epoch 27/50\n",
      "1250/1250 [==============================] - 2s 1ms/step - loss: 4.4427e-06 - mean_absolute_error: 0.0015 - mean_squared_error: 4.4427e-06 - val_loss: 9.7544e-07 - val_mean_absolute_error: 6.0529e-04 - val_mean_squared_error: 9.7544e-07\n",
      "Epoch 28/50\n",
      "1250/1250 [==============================] - 2s 2ms/step - loss: 3.6707e-06 - mean_absolute_error: 0.0014 - mean_squared_error: 3.6707e-06 - val_loss: 5.9597e-07 - val_mean_absolute_error: 4.5880e-04 - val_mean_squared_error: 5.9597e-07\n",
      "Epoch 29/50\n",
      "1250/1250 [==============================] - 2s 1ms/step - loss: 3.8422e-06 - mean_absolute_error: 0.0014 - mean_squared_error: 3.8422e-06 - val_loss: 4.4120e-05 - val_mean_absolute_error: 0.0065 - val_mean_squared_error: 4.4120e-05\n",
      "Epoch 30/50\n",
      "1250/1250 [==============================] - 2s 2ms/step - loss: 3.4088e-06 - mean_absolute_error: 0.0014 - mean_squared_error: 3.4088e-06 - val_loss: 6.8792e-07 - val_mean_absolute_error: 3.8622e-04 - val_mean_squared_error: 6.8792e-07\n",
      "Epoch 31/50\n",
      "1250/1250 [==============================] - 2s 1ms/step - loss: 2.9138e-06 - mean_absolute_error: 0.0012 - mean_squared_error: 2.9138e-06 - val_loss: 3.3882e-06 - val_mean_absolute_error: 0.0016 - val_mean_squared_error: 3.3882e-06\n",
      "Epoch 32/50\n",
      "1250/1250 [==============================] - 2s 1ms/step - loss: 3.3084e-06 - mean_absolute_error: 0.0013 - mean_squared_error: 3.3084e-06 - val_loss: 4.9308e-07 - val_mean_absolute_error: 4.0805e-04 - val_mean_squared_error: 4.9308e-07\n",
      "Epoch 33/50\n",
      "1250/1250 [==============================] - 2s 1ms/step - loss: 3.0076e-06 - mean_absolute_error: 0.0012 - mean_squared_error: 3.0076e-06 - val_loss: 2.8415e-07 - val_mean_absolute_error: 2.7510e-04 - val_mean_squared_error: 2.8415e-07\n",
      "Epoch 34/50\n",
      "1250/1250 [==============================] - 2s 2ms/step - loss: 2.6951e-06 - mean_absolute_error: 0.0011 - mean_squared_error: 2.6951e-06 - val_loss: 4.7929e-07 - val_mean_absolute_error: 4.0142e-04 - val_mean_squared_error: 4.7929e-07\n",
      "Epoch 35/50\n",
      "1250/1250 [==============================] - 2s 1ms/step - loss: 2.2046e-06 - mean_absolute_error: 0.0011 - mean_squared_error: 2.2046e-06 - val_loss: 1.0699e-06 - val_mean_absolute_error: 9.2906e-04 - val_mean_squared_error: 1.0699e-06\n",
      "Epoch 36/50\n",
      "1250/1250 [==============================] - 2s 1ms/step - loss: 2.4169e-06 - mean_absolute_error: 0.0012 - mean_squared_error: 2.4169e-06 - val_loss: 8.9457e-07 - val_mean_absolute_error: 7.5497e-04 - val_mean_squared_error: 8.9457e-07\n",
      "Epoch 37/50\n",
      "1250/1250 [==============================] - 2s 2ms/step - loss: 2.1017e-06 - mean_absolute_error: 0.0011 - mean_squared_error: 2.1017e-06 - val_loss: 1.2755e-06 - val_mean_absolute_error: 0.0011 - val_mean_squared_error: 1.2755e-06\n",
      "Epoch 38/50\n",
      "1250/1250 [==============================] - 2s 1ms/step - loss: 2.0600e-06 - mean_absolute_error: 0.0011 - mean_squared_error: 2.0600e-06 - val_loss: 2.1818e-06 - val_mean_absolute_error: 0.0014 - val_mean_squared_error: 2.1818e-06\n",
      "Epoch 39/50\n",
      "1250/1250 [==============================] - 2s 1ms/step - loss: 2.0105e-06 - mean_absolute_error: 0.0010 - mean_squared_error: 2.0105e-06 - val_loss: 7.3594e-07 - val_mean_absolute_error: 7.7690e-04 - val_mean_squared_error: 7.3594e-07\n",
      "Epoch 40/50\n",
      "1250/1250 [==============================] - 2s 1ms/step - loss: 1.7249e-06 - mean_absolute_error: 9.8460e-04 - mean_squared_error: 1.7249e-06 - val_loss: 7.1720e-06 - val_mean_absolute_error: 0.0026 - val_mean_squared_error: 7.1720e-06\n",
      "Epoch 41/50\n",
      "1250/1250 [==============================] - 2s 1ms/step - loss: 1.8046e-06 - mean_absolute_error: 8.1854e-04 - mean_squared_error: 1.8046e-06 - val_loss: 9.0939e-08 - val_mean_absolute_error: 6.3009e-05 - val_mean_squared_error: 9.0939e-08\n",
      "Epoch 42/50\n",
      "1250/1250 [==============================] - 2s 1ms/step - loss: 1.6870e-06 - mean_absolute_error: 8.3761e-04 - mean_squared_error: 1.6870e-06 - val_loss: 2.6211e-07 - val_mean_absolute_error: 3.9146e-04 - val_mean_squared_error: 2.6211e-07\n",
      "Epoch 43/50\n",
      "1250/1250 [==============================] - 2s 1ms/step - loss: 1.5771e-06 - mean_absolute_error: 8.3202e-04 - mean_squared_error: 1.5771e-06 - val_loss: 1.9224e-07 - val_mean_absolute_error: 3.2302e-04 - val_mean_squared_error: 1.9224e-07\n",
      "Epoch 44/50\n",
      "1250/1250 [==============================] - 2s 1ms/step - loss: 1.4474e-06 - mean_absolute_error: 9.0344e-04 - mean_squared_error: 1.4474e-06 - val_loss: 1.2420e-06 - val_mean_absolute_error: 0.0011 - val_mean_squared_error: 1.2420e-06\n",
      "Epoch 45/50\n",
      "1250/1250 [==============================] - 2s 1ms/step - loss: 1.7831e-06 - mean_absolute_error: 8.8546e-04 - mean_squared_error: 1.7831e-06 - val_loss: 1.2254e-06 - val_mean_absolute_error: 0.0011 - val_mean_squared_error: 1.2254e-06\n",
      "Epoch 46/50\n",
      "1250/1250 [==============================] - 2s 1ms/step - loss: 1.3110e-06 - mean_absolute_error: 6.6396e-04 - mean_squared_error: 1.3110e-06 - val_loss: 3.6994e-07 - val_mean_absolute_error: 4.5928e-04 - val_mean_squared_error: 3.6994e-07\n",
      "Epoch 47/50\n",
      "1250/1250 [==============================] - 2s 1ms/step - loss: 1.3425e-06 - mean_absolute_error: 8.0154e-04 - mean_squared_error: 1.3425e-06 - val_loss: 1.8411e-07 - val_mean_absolute_error: 3.5302e-04 - val_mean_squared_error: 1.8411e-07\n",
      "Epoch 48/50\n",
      "1250/1250 [==============================] - 2s 1ms/step - loss: 1.4382e-06 - mean_absolute_error: 8.7365e-04 - mean_squared_error: 1.4382e-06 - val_loss: 9.5962e-08 - val_mean_absolute_error: 1.9164e-04 - val_mean_squared_error: 9.5962e-08\n",
      "Epoch 49/50\n",
      "1250/1250 [==============================] - 2s 1ms/step - loss: 1.1773e-06 - mean_absolute_error: 7.2516e-04 - mean_squared_error: 1.1773e-06 - val_loss: 6.1266e-07 - val_mean_absolute_error: 6.9186e-04 - val_mean_squared_error: 6.1266e-07\n",
      "Epoch 50/50\n",
      "1250/1250 [==============================] - 2s 1ms/step - loss: 1.2964e-06 - mean_absolute_error: 7.9244e-04 - mean_squared_error: 1.2964e-06 - val_loss: 4.9466e-08 - val_mean_absolute_error: 7.2032e-05 - val_mean_squared_error: 4.9466e-08\n"
     ]
    }
   ],
   "source": [
    "\n",
    "history = model.fit(X_train, y_train, epochs=50, batch_size=32, validation_data=(X_test, y_test))\n"
   ]
  },
  {
   "cell_type": "code",
   "execution_count": null,
   "metadata": {},
   "outputs": [],
   "source": [
    "model.save('model.h5')\n"
   ]
  },
  {
   "cell_type": "markdown",
   "metadata": {},
   "source": [
    "### 6) Model Evaluation"
   ]
  },
  {
   "cell_type": "code",
   "execution_count": null,
   "metadata": {},
   "outputs": [
    {
     "name": "stdout",
     "output_type": "stream",
     "text": [
      "313/313 [==============================] - 0s 894us/step\n",
      " Accuracy: 99.98104400976707%\n"
     ]
    }
   ],
   "source": [
    "from sklearn.metrics import mean_squared_error, mean_absolute_error\n",
    "\n",
    "y_pred = model.predict(X_test)\n",
    "\n",
    "#  MSE and MAE and Accuracy\n",
    "mse = mean_squared_error(y_test, y_pred)\n",
    "mae = mean_absolute_error(y_test, y_pred)\n",
    "\n",
    "value_range = np.max(y_test) - np.min(y_test)\n",
    "percentage_error = (mae / value_range) * 100\n",
    "accuracy = 100 - percentage_error\n",
    "print(f' Accuracy: {accuracy}%')"
   ]
  },
  {
   "cell_type": "code",
   "execution_count": null,
   "metadata": {},
   "outputs": [
    {
     "data": {
      "image/png": "[encoded data removed]",
      "text/plain": [
       "<Figure size 864x432 with 1 Axes>"
      ]
     },
     "metadata": {
      "needs_background": "light"
     },
     "output_type": "display_data"
    }
   ],
   "source": [
    "plt.figure(figsize=(12, 6))\n",
    "plt.plot(history.history['mean_absolute_error'], label='Training MAE', color='blue')\n",
    "plt.title('Model Mean Absolute Error (MAE) per Epoch')\n",
    "plt.xlabel('Epoch')\n",
    "plt.ylabel('Mean Absolute Error')\n",
    "plt.legend(loc='upper right')\n",
    "plt.grid()\n",
    "plt.show()\n"
   ]
  },
  {
   "cell_type": "code",
   "execution_count": null,
   "metadata": {},
   "outputs": [
    {
     "name": "stdout",
     "output_type": "stream",
     "text": [
      "313/313 [==============================] - 0s 889us/step\n"
     ]
    },
    {
     "data": {
      "image/png": "[encoded data removed]",
      "text/plain": [
       "<Figure size 432x288 with 2 Axes>"
      ]
     },
     "metadata": {
      "needs_background": "light"
     },
     "output_type": "display_data"
    }
   ],
   "source": [
    "# confusion matrix graph\n",
    "import seaborn as sns\n",
    "from sklearn.metrics import confusion_matrix\n",
    "\n",
    "y_pred = model.predict(X_test)\n",
    "\n",
    "cm = confusion_matrix(y_test.round(), y_pred.round())\n",
    "\n",
    "sns.heatmap(cm, annot=True, fmt='d')\n",
    "plt.title('Confusion Matrix')\n",
    "plt.xlabel('Predicted')\n",
    "plt.ylabel('Actual')\n",
    "plt.show()\n"
   ]
  },
  {
   "cell_type": "code",
   "execution_count": null,
   "metadata": {},
   "outputs": [],
   "source": []
  }
 ],
 "metadata": {
  "kernelspec": {
   "display_name": "base",
   "language": "python",
   "name": "python3"
  },
  "language_info": {
   "codemirror_mode": {
    "name": "ipython",
    "version": 3
   },
   "file_extension": ".py",
   "mimetype": "text/x-python",
   "name": "python",
   "nbconvert_exporter": "python",
   "pygments_lexer": "ipython3",
   "version": "3.8.5"
  }
 },
 "nbformat": 4,
 "nbformat_minor": 2
}
